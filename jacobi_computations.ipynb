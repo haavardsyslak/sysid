{
 "cells": [
  {
   "cell_type": "code",
   "execution_count": 1,
   "id": "18ca272e-b415-40d7-96b0-8865ceb55aa2",
   "metadata": {},
   "outputs": [],
   "source": [
    "import sympy as sym\n",
    "from sympy import simplify\n",
    "import numpy as np\n",
    "import utils\n",
    "\n"
   ]
  },
  {
   "cell_type": "code",
   "execution_count": 2,
   "id": "a55f7464-01d7-4df5-9284-f78f243cb100",
   "metadata": {},
   "outputs": [],
   "source": [
    "t = sym.symbols(\"t\", real=True)\n",
    "u = sym.Function(\"u\", real=True)(t)\n",
    "v = sym.Function(\"v\", real=True)(t)\n",
    "w = sym.Function(\"w\", real=True)(t)\n",
    "p = sym.Function(\"p\", real=True)(t)\n",
    "q = sym.Function(\"q\", real=True)(t)\n",
    "r = sym.Function(\"r\",real=True)(t)\n",
    "phi = sym.Function(r\"\\phi\", real=True)(t)\n",
    "theta = sym.Function(r\"\\theta\", real=True)(t)\n",
    "psi = sym.Function(r\"\\psi\", real=True)(t)\n",
    "\n",
    "X = sym.Function(\"X\")(t)\n",
    "Y = sym.Function(\"Y\")(t)\n",
    "Z = sym.Function(\"Y\")(t)\n",
    "K = sym.Function(\"K\")(t)\n",
    "M = sym.Function(\"M\")(t)\n",
    "N = sym.Function(\"N\")(t)\n",
    "\n",
    "x = sym.Matrix([u, v, w, p, q, r, phi, theta, psi])\n",
    "tau = sym.Matrix([X, Y, Z, K, M, N])\n"
   ]
  },
  {
   "cell_type": "code",
   "execution_count": 3,
   "id": "60010784-2c17-4acf-a1df-116a615c6b80",
   "metadata": {},
   "outputs": [],
   "source": [
    "## Hydrodynamic parameters\n",
    "W = sym.symbols(\"W\")\n",
    "B = sym.symbols(\"B\")\n",
    "m = sym.symbols(\"m\")\n",
    "Ix = sym.symbols(\"Ix\")\n",
    "Iy = sym.symbols(\"Iy\")\n",
    "Iz = sym.symbols(\"Iz\")\n",
    "\n",
    "Xdu = sym.symbols(\"X_{\\dot{u}}\")\n",
    "Ydv = sym.symbols(\"Y_{\\dot{v}}\")\n",
    "Zdw = sym.symbols(\"Z_{\\dot{w}}\")\n",
    "Kdp = sym.symbols(\"K_{\\dot{p}}\")\n",
    "Mdq = sym.symbols(\"M_{\\dot{q}}\")\n",
    "Ndr = sym.symbols(\"N_{\\dot{r}}\")\n",
    "\n",
    "Xu = sym.symbols(\"X_u\")\n",
    "Yv = sym.symbols(\"Y_v\")\n",
    "Zw = sym.symbols(\"Z_w\")\n",
    "Kp = sym.symbols(\"K_p\")\n",
    "Mq = sym.symbols(\"M_q\")\n",
    "Nr = sym.symbols(\"N_r\")\n",
    "\n",
    "Xabs_u = sym.symbols(\"X_{u|u|}\")\n",
    "Yabs_v = sym.symbols(\"Y_{v|v|}\")\n",
    "Zabs_w = sym.symbols(\"Z_{w|w|}\")\n",
    "Kabs_p = sym.symbols(\"K_{p|p|}\")\n",
    "Mabs_q = sym.symbols(\"M_{q|q|}\")\n",
    "Nabs_r = sym.symbols(\"N_{r|r|}\")\n"
   ]
  },
  {
   "cell_type": "code",
   "execution_count": 4,
   "id": "348b2459-650b-424b-a00d-1255d08c2f88",
   "metadata": {},
   "outputs": [],
   "source": [
    "xb, yb, zb = sym.symbols(r\"x_b y_b z_b\")\n",
    "xg, yg, zg = sym.symbols(r\"x_g y_g z_g\")\n",
    "rg = sym.Matrix([xg, yg, zg])\n",
    "rb = sym.Matrix([xb, yb, zb])\n"
   ]
  },
  {
   "cell_type": "code",
   "execution_count": 5,
   "id": "dc170da4-7b60-4677-b39d-8905c79c4ac5",
   "metadata": {},
   "outputs": [],
   "source": [
    "def Rzyx(phi, theta, psi):\n",
    "    \"\"\"\n",
    "    R = Rzyx(phi,theta,psi) computes the Euler angle rotation matrix R in SO(3)\n",
    "    using the zyx convention\n",
    "    \"\"\"\n",
    "\n",
    "    cphi = sym.cos(phi)\n",
    "    sphi = sym.sin(phi)\n",
    "    cth = sym.cos(theta)\n",
    "    sth = sym.sin(theta)\n",
    "    cpsi = sym.cos(psi)\n",
    "    spsi = sym.sin(psi)\n",
    "\n",
    "    R = sym.Matrix([\n",
    "        [cpsi * cth, -spsi * cphi + cpsi * sth * sphi, spsi * sphi + cpsi * cphi * sth],\n",
    "        [spsi * cth, cpsi * cphi + sphi * sth * spsi, -cpsi * sphi + sth * spsi * cphi],\n",
    "        [-sth, cth * sphi, cth * cphi]])\n",
    "\n",
    "    return R\n"
   ]
  },
  {
   "cell_type": "code",
   "execution_count": 6,
   "id": "7e376b53-9943-4d1a-989e-116b1814e856",
   "metadata": {},
   "outputs": [
    {
     "data": {
      "text/latex": [
       "$\\displaystyle \\left[\\begin{matrix}1 & \\frac{\\sin{\\left(\\phi{\\left(t \\right)} \\right)} \\sin{\\left(\\theta{\\left(t \\right)} \\right)}}{\\cos{\\left(\\theta{\\left(t \\right)} \\right)}} & \\frac{\\sin{\\left(\\theta{\\left(t \\right)} \\right)} \\cos{\\left(\\phi{\\left(t \\right)} \\right)}}{\\cos{\\left(\\theta{\\left(t \\right)} \\right)}}\\\\0 & \\cos{\\left(\\phi{\\left(t \\right)} \\right)} & - \\sin{\\left(\\phi{\\left(t \\right)} \\right)}\\\\0 & \\frac{\\sin{\\left(\\phi{\\left(t \\right)} \\right)}}{\\cos{\\left(\\theta{\\left(t \\right)} \\right)}} & \\frac{\\cos{\\left(\\phi{\\left(t \\right)} \\right)}}{\\cos{\\left(\\theta{\\left(t \\right)} \\right)}}\\end{matrix}\\right]$"
      ],
      "text/plain": [
       "Matrix([\n",
       "[1, sin(\\phi(t))*sin(\\theta(t))/cos(\\theta(t)), sin(\\theta(t))*cos(\\phi(t))/cos(\\theta(t))],\n",
       "[0,                               cos(\\phi(t)),                              -sin(\\phi(t))],\n",
       "[0,                sin(\\phi(t))/cos(\\theta(t)),                cos(\\phi(t))/cos(\\theta(t))]])"
      ]
     },
     "execution_count": 6,
     "metadata": {},
     "output_type": "execute_result"
    }
   ],
   "source": [
    "def Tzyx(phi, theta):\n",
    "    \"\"\"\n",
    "    T = Tzyx(phi,theta) computes the Euler angle attitude\n",
    "    transformation matrix T using the zyx convention\n",
    "    \"\"\"\n",
    "\n",
    "    cphi = sym.cos(phi)\n",
    "    sphi = sym.sin(phi)\n",
    "    cth = sym.cos(theta)\n",
    "    sth = sym.sin(theta)\n",
    "\n",
    "    try:\n",
    "        T = sym.Matrix([\n",
    "            [1, sphi * sth / cth, cphi * sth / cth],\n",
    "            [0, cphi, -sphi],\n",
    "            [0, sphi / cth, cphi / cth]])\n",
    "\n",
    "    except ZeroDivisionError:\n",
    "        print(\"Tzyx is singular for theta = +-90 degrees.\")\n",
    "\n",
    "    return T\n",
    "\n",
    "Tzyx(phi, theta)\n"
   ]
  },
  {
   "cell_type": "code",
   "execution_count": 7,
   "id": "de0f64c9-f988-479d-add6-eb6336c3cd94",
   "metadata": {},
   "outputs": [
    {
     "data": {
      "text/latex": [
       "$\\displaystyle \\left[\\begin{matrix}\\cos{\\left(\\psi{\\left(t \\right)} \\right)} \\cos{\\left(\\theta{\\left(t \\right)} \\right)} & \\sin{\\left(\\phi{\\left(t \\right)} \\right)} \\sin{\\left(\\theta{\\left(t \\right)} \\right)} \\cos{\\left(\\psi{\\left(t \\right)} \\right)} - \\sin{\\left(\\psi{\\left(t \\right)} \\right)} \\cos{\\left(\\phi{\\left(t \\right)} \\right)} & \\sin{\\left(\\phi{\\left(t \\right)} \\right)} \\sin{\\left(\\psi{\\left(t \\right)} \\right)} + \\sin{\\left(\\theta{\\left(t \\right)} \\right)} \\cos{\\left(\\phi{\\left(t \\right)} \\right)} \\cos{\\left(\\psi{\\left(t \\right)} \\right)} & 0 & 0 & 0\\\\\\sin{\\left(\\psi{\\left(t \\right)} \\right)} \\cos{\\left(\\theta{\\left(t \\right)} \\right)} & \\sin{\\left(\\phi{\\left(t \\right)} \\right)} \\sin{\\left(\\psi{\\left(t \\right)} \\right)} \\sin{\\left(\\theta{\\left(t \\right)} \\right)} + \\cos{\\left(\\phi{\\left(t \\right)} \\right)} \\cos{\\left(\\psi{\\left(t \\right)} \\right)} & - \\sin{\\left(\\phi{\\left(t \\right)} \\right)} \\cos{\\left(\\psi{\\left(t \\right)} \\right)} + \\sin{\\left(\\psi{\\left(t \\right)} \\right)} \\sin{\\left(\\theta{\\left(t \\right)} \\right)} \\cos{\\left(\\phi{\\left(t \\right)} \\right)} & 0 & 0 & 0\\\\- \\sin{\\left(\\theta{\\left(t \\right)} \\right)} & \\sin{\\left(\\phi{\\left(t \\right)} \\right)} \\cos{\\left(\\theta{\\left(t \\right)} \\right)} & \\cos{\\left(\\phi{\\left(t \\right)} \\right)} \\cos{\\left(\\theta{\\left(t \\right)} \\right)} & 0 & 0 & 0\\\\0 & 0 & 0 & 1 & \\frac{\\sin{\\left(\\psi{\\left(t \\right)} \\right)} \\sin{\\left(\\theta{\\left(t \\right)} \\right)}}{\\cos{\\left(\\psi{\\left(t \\right)} \\right)}} & \\frac{\\sin{\\left(\\psi{\\left(t \\right)} \\right)} \\cos{\\left(\\theta{\\left(t \\right)} \\right)}}{\\cos{\\left(\\psi{\\left(t \\right)} \\right)}}\\\\0 & 0 & 0 & 0 & \\cos{\\left(\\theta{\\left(t \\right)} \\right)} & - \\sin{\\left(\\theta{\\left(t \\right)} \\right)}\\\\0 & 0 & 0 & 0 & \\frac{\\sin{\\left(\\theta{\\left(t \\right)} \\right)}}{\\cos{\\left(\\psi{\\left(t \\right)} \\right)}} & \\frac{\\cos{\\left(\\theta{\\left(t \\right)} \\right)}}{\\cos{\\left(\\psi{\\left(t \\right)} \\right)}}\\end{matrix}\\right]$"
      ],
      "text/plain": [
       "Matrix([\n",
       "[cos(\\psi(t))*cos(\\theta(t)), sin(\\phi(t))*sin(\\theta(t))*cos(\\psi(t)) - sin(\\psi(t))*cos(\\phi(t)),  sin(\\phi(t))*sin(\\psi(t)) + sin(\\theta(t))*cos(\\phi(t))*cos(\\psi(t)), 0,                                        0,                                        0],\n",
       "[sin(\\psi(t))*cos(\\theta(t)), sin(\\phi(t))*sin(\\psi(t))*sin(\\theta(t)) + cos(\\phi(t))*cos(\\psi(t)), -sin(\\phi(t))*cos(\\psi(t)) + sin(\\psi(t))*sin(\\theta(t))*cos(\\phi(t)), 0,                                        0,                                        0],\n",
       "[            -sin(\\theta(t)),                                          sin(\\phi(t))*cos(\\theta(t)),                                           cos(\\phi(t))*cos(\\theta(t)), 0,                                        0,                                        0],\n",
       "[                          0,                                                                    0,                                                                     0, 1, sin(\\psi(t))*sin(\\theta(t))/cos(\\psi(t)), sin(\\psi(t))*cos(\\theta(t))/cos(\\psi(t))],\n",
       "[                          0,                                                                    0,                                                                     0, 0,                           cos(\\theta(t)),                          -sin(\\theta(t))],\n",
       "[                          0,                                                                    0,                                                                     0, 0,              sin(\\theta(t))/cos(\\psi(t)),              cos(\\theta(t))/cos(\\psi(t))]])"
      ]
     },
     "execution_count": 7,
     "metadata": {},
     "output_type": "execute_result"
    }
   ],
   "source": [
    "def J(eta):\n",
    "    a = np.block([[Rzyx(eta[0], eta[1], eta[2]), np.zeros(((3, 3)))],\n",
    "                  [np.zeros((3, 3)), Tzyx(eta[1], eta[2])]])\n",
    "    return sym.Matrix(a)\n",
    "\n",
    "J(x[6:])\n",
    "    \n"
   ]
  },
  {
   "cell_type": "code",
   "execution_count": 8,
   "id": "cfad0616-e8be-4086-a73e-edfdab5639f1",
   "metadata": {},
   "outputs": [],
   "source": [
    "MRB = sym.Matrix([[m, 0, 0, 0, 0, 0],\n",
    "                 [0, m, 0, 0, 0, 0],\n",
    "                 [0, 0, m, 0, 0, 0],\n",
    "                 [0, 0, 0, Ix, 0, 0],\n",
    "                 [0, 0, 0, 0, Iy, 0],\n",
    "                 [0, 0, 0, 0, 0, Iz]])\n",
    "MA = -sym.diag(Xdu, Ydv, Zdw, Kdp, Mdq, Ndr)\n",
    "\n",
    "M_ = MA + MRB\n"
   ]
  },
  {
   "cell_type": "code",
   "execution_count": 9,
   "id": "67a65979-74b3-4065-8786-7f4b23d1470f",
   "metadata": {},
   "outputs": [],
   "source": [
    "def gvect(W, B, theta, phi, r_bg, r_bb):\n",
    "    \"\"\"\n",
    "    g = gvect(W,B,theta,phi,r_bg,r_bb) computes the 6x1 vector of restoring\n",
    "    forces about an arbitrarily point CO for a submerged body.\n",
    "\n",
    "    Inputs:\n",
    "        W, B: weight and buoyancy (kg)\n",
    "        phi,theta: roll and pitch angles (rad)\n",
    "        r_bg = [x_g y_g z_g]: location of the CG with respect to the CO (m)\n",
    "        r_bb = [x_b y_b z_b]: location of the CB with respect to th CO (m)\n",
    "\n",
    "    Returns:\n",
    "        g: 6x1 vector of restoring forces about CO\n",
    "    \"\"\"\n",
    "\n",
    "    sth = sym.sin(theta)\n",
    "    cth = sym.cos(theta)\n",
    "    sphi = sym.sin(phi)\n",
    "    cphi = sym.cos(phi)\n",
    "    xb, yb, zb = r_bb\n",
    "\n",
    "    g = sym.Matrix([\n",
    "        (W - B) * sth,\n",
    "        -(W - B) * cth * sphi,\n",
    "        -(W - B) * cth * cphi,\n",
    "        yb * B * cth * cphi - zb * B * cth * sphi,\n",
    "        -zb * B * sth - xb * cth * cphi,\n",
    "        xb * B * cth * sth + yb * B * sth,\n",
    "    ])\n",
    "\n",
    "    return g\n",
    "g = gvect(W, B, x[6], x[7], rg, rb)\n"
   ]
  },
  {
   "cell_type": "code",
   "execution_count": 10,
   "id": "62be6533-d81e-4310-8a1d-6f6958b58cee",
   "metadata": {},
   "outputs": [],
   "source": [
    "D = -sym.diag(Xu, Yv, Zw, Kp, Mq, Nr)\n",
    "\n",
    "D = D - sym.diag(Xabs_u * abs(x[0]),\n",
    "                 Yabs_v * abs(x[1]),\n",
    "                 Zabs_w * abs(x[2]),\n",
    "                 Kabs_p * abs(x[3]),\n",
    "                 Mabs_q * abs(x[4]),\n",
    "                 Nabs_r * abs(x[5]))\n",
    "\n"
   ]
  },
  {
   "cell_type": "code",
   "execution_count": 11,
   "id": "6e2c5085-89f3-4d73-8388-fa690fb8cc43",
   "metadata": {},
   "outputs": [],
   "source": [
    "def Smtrx(a):\n",
    "    \"\"\"\n",
    "    S = Smtrx(a) computes the 3x3 vector skew-symmetric matrix S(a) = -S(a)'.\n",
    "    The cross product satisfies: a x b = S(a)b.\n",
    "    \"\"\"\n",
    "\n",
    "    S = sym.Matrix([\n",
    "        [0, -a[2], a[1]],\n",
    "        [a[2], 0, -a[0]],\n",
    "        [-a[1], a[0], 0]])\n",
    "\n",
    "    return S\n",
    "\n",
    "\n",
    "def m2c(M, nu):\n",
    "    \"\"\"\n",
    "    C = m2c(M,nu) computes the Coriolis and centripetal matrix C from the\n",
    "    mass matrix M and generalized velocity vector nu (Fossen 2021, Ch. 3)\n",
    "    \"\"\"\n",
    "\n",
    "    M = sym.Rational(1,2) * (M + M.transpose())  # systematization of the inertia matrix\n",
    "\n",
    "    M11 = M[0:3, 0:3]\n",
    "    M12 = M[0:3, 3:6]\n",
    "    M21 = M12.T\n",
    "    M22 = M[3:6, 3:6]\n",
    "\n",
    "    nu1 = sym.Matrix(nu[0:3])\n",
    "    nu2 = sym.Matrix(nu[3:6])\n",
    "    #dt_dnu1 = np.matmul(M11, nu1) + np.matmul(M12, nu2)\n",
    "    #dt_dnu2 = np.matmul(M21, nu1) + np.matmul(M22, nu2)\n",
    "    dt_dnu1 = M11 @ nu1 + M12 @ nu2\n",
    "    dt_dnu2 = M21 @ nu1 + M22 @ nu2\n",
    "    # C  = [  zeros(3,3)      -Smtrx(dt_dnu1)\n",
    "    #      -Smtrx(dt_dnu1)  -Smtrx(dt_dnu2) ]\n",
    "    C = sym.zeros(6, 6)\n",
    "    C[0:3, 3:6] = -Smtrx(dt_dnu1)\n",
    "    C[3:6, 0:3] = -Smtrx(dt_dnu1)\n",
    "    C[3:6, 3:6] = -Smtrx(dt_dnu2)\n",
    "\n",
    "    return C\n",
    "\n",
    "\n",
    "C = m2c(M_, sym.Matrix(x[:6]))"
   ]
  },
  {
   "cell_type": "code",
   "execution_count": 12,
   "id": "b2c2b7e7-8c1e-4eeb-a2e7-626ef3d188d8",
   "metadata": {},
   "outputs": [
    {
     "name": "stdout",
     "output_type": "stream",
     "text": [
      "<class 'sympy.matrices.dense.MutableDenseMatrix'>\n"
     ]
    }
   ],
   "source": [
    "v = sym.Matrix(x[:6])\n",
    "\n",
    "vM = tau - D @ v - C @ v - g\n",
    "Theta = Tzyx(x[6], x[7]) @ sym.Matrix(x[3:6])\n",
    "M_\n",
    "M_9x9 = M_.row_join(sym.zeros(6,3)).col_join(sym.zeros(3,6).row_join(sym.eye(3)))\n",
    "t\n",
    "f = M_9x9.inv() @ sym.Matrix([vM, Theta])\n",
    "print(type(f))\n",
    "f = sym.simplify(f)"
   ]
  },
  {
   "cell_type": "code",
   "execution_count": 133,
   "id": "345efd44-cd2f-4247-aa0d-7f25fe03762b",
   "metadata": {},
   "outputs": [
    {
     "data": {
      "text/latex": [
       "$\\displaystyle \\left[\\begin{matrix}\\frac{\\left(- B + W\\right) \\sin{\\left(\\phi{\\left(t \\right)} \\right)} - \\left(X_{u} + X_{u|u|} \\left|{u{\\left(t \\right)}}\\right|\\right) u{\\left(t \\right)} + \\left(Y_{\\dot{v}} - m\\right) r{\\left(t \\right)} v{\\left(t \\right)} - \\left(Z_{\\dot{w}} - m\\right) q{\\left(t \\right)} w{\\left(t \\right)} - X{\\left(t \\right)}}{X_{\\dot{u}} - m}\\\\\\frac{\\left(B - W\\right) \\sin{\\left(\\theta{\\left(t \\right)} \\right)} \\cos{\\left(\\phi{\\left(t \\right)} \\right)} - \\left(X_{\\dot{u}} - m\\right) r{\\left(t \\right)} u{\\left(t \\right)} - \\left(Y_{v} + Y_{v|v|} \\left|{v{\\left(t \\right)}}\\right|\\right) v{\\left(t \\right)} + \\left(Z_{\\dot{w}} - m\\right) p{\\left(t \\right)} w{\\left(t \\right)} - Y{\\left(t \\right)}}{Y_{\\dot{v}} - m}\\\\\\frac{\\left(B - W\\right) \\cos{\\left(\\phi{\\left(t \\right)} \\right)} \\cos{\\left(\\theta{\\left(t \\right)} \\right)} + \\left(X_{\\dot{u}} - m\\right) q{\\left(t \\right)} u{\\left(t \\right)} - \\left(Y_{\\dot{v}} - m\\right) p{\\left(t \\right)} v{\\left(t \\right)} - \\left(Z_{w} + Z_{w|w|} \\left|{w{\\left(t \\right)}}\\right|\\right) w{\\left(t \\right)} - Y{\\left(t \\right)}}{Z_{\\dot{w}} - m}\\\\\\frac{- B y_{b} \\cos{\\left(\\phi{\\left(t \\right)} \\right)} \\cos{\\left(\\theta{\\left(t \\right)} \\right)} + B z_{b} \\sin{\\left(\\theta{\\left(t \\right)} \\right)} \\cos{\\left(\\phi{\\left(t \\right)} \\right)} + \\left(Iy - M_{\\dot{q}}\\right) q{\\left(t \\right)} r{\\left(t \\right)} - \\left(Iz - N_{\\dot{r}}\\right) q{\\left(t \\right)} r{\\left(t \\right)} + \\left(K_{p} + K_{p|p|} \\left|{p{\\left(t \\right)}}\\right|\\right) p{\\left(t \\right)} - \\left(Y_{\\dot{v}} - m\\right) v{\\left(t \\right)} w{\\left(t \\right)} + \\left(Z_{\\dot{w}} - m\\right) v{\\left(t \\right)} w{\\left(t \\right)} + K{\\left(t \\right)}}{Ix - K_{\\dot{p}}}\\\\\\frac{B z_{b} \\sin{\\left(\\phi{\\left(t \\right)} \\right)} + x_{b} \\cos{\\left(\\phi{\\left(t \\right)} \\right)} \\cos{\\left(\\theta{\\left(t \\right)} \\right)} - \\left(Ix - K_{\\dot{p}}\\right) p{\\left(t \\right)} r{\\left(t \\right)} + \\left(Iz - N_{\\dot{r}}\\right) p{\\left(t \\right)} r{\\left(t \\right)} + \\left(M_{q} + M_{q|q|} \\left|{q{\\left(t \\right)}}\\right|\\right) q{\\left(t \\right)} + \\left(X_{\\dot{u}} - m\\right) u{\\left(t \\right)} w{\\left(t \\right)} - \\left(Z_{\\dot{w}} - m\\right) u{\\left(t \\right)} w{\\left(t \\right)} + M{\\left(t \\right)}}{Iy - M_{\\dot{q}}}\\\\\\frac{- \\frac{B x_{b} \\sin{\\left(2 \\phi{\\left(t \\right)} \\right)}}{2} - B y_{b} \\sin{\\left(\\phi{\\left(t \\right)} \\right)} + \\left(Ix - K_{\\dot{p}}\\right) p{\\left(t \\right)} q{\\left(t \\right)} - \\left(Iy - M_{\\dot{q}}\\right) p{\\left(t \\right)} q{\\left(t \\right)} + \\left(N_{r} + N_{r|r|} \\left|{r{\\left(t \\right)}}\\right|\\right) r{\\left(t \\right)} - \\left(X_{\\dot{u}} - m\\right) u{\\left(t \\right)} v{\\left(t \\right)} + \\left(Y_{\\dot{v}} - m\\right) u{\\left(t \\right)} v{\\left(t \\right)} + N{\\left(t \\right)}}{Iz - N_{\\dot{r}}}\\\\p{\\left(t \\right)} + q{\\left(t \\right)} \\sin{\\left(\\phi{\\left(t \\right)} \\right)} \\tan{\\left(\\theta{\\left(t \\right)} \\right)} + r{\\left(t \\right)} \\cos{\\left(\\phi{\\left(t \\right)} \\right)} \\tan{\\left(\\theta{\\left(t \\right)} \\right)}\\\\q{\\left(t \\right)} \\cos{\\left(\\phi{\\left(t \\right)} \\right)} - r{\\left(t \\right)} \\sin{\\left(\\phi{\\left(t \\right)} \\right)}\\\\\\frac{q{\\left(t \\right)} \\sin{\\left(\\phi{\\left(t \\right)} \\right)} + r{\\left(t \\right)} \\cos{\\left(\\phi{\\left(t \\right)} \\right)}}{\\cos{\\left(\\theta{\\left(t \\right)} \\right)}}\\end{matrix}\\right]$"
      ],
      "text/plain": [
       "Matrix([\n",
       "[                                                                                                                ((-B + W)*sin(\\phi(t)) - (X_u + X_{u|u|}*Abs(u(t)))*u(t) + (Y_{\\dot{v}} - m)*r(t)*v(t) - (Z_{\\dot{w}} - m)*q(t)*w(t) - X(t))/(X_{\\dot{u}} - m)],\n",
       "[                                                                                                  ((B - W)*sin(\\theta(t))*cos(\\phi(t)) - (X_{\\dot{u}} - m)*r(t)*u(t) - (Y_v + Y_{v|v|}*Abs(v(t)))*v(t) + (Z_{\\dot{w}} - m)*p(t)*w(t) - Y(t))/(Y_{\\dot{v}} - m)],\n",
       "[                                                                                                  ((B - W)*cos(\\phi(t))*cos(\\theta(t)) + (X_{\\dot{u}} - m)*q(t)*u(t) - (Y_{\\dot{v}} - m)*p(t)*v(t) - (Z_w + Z_{w|w|}*Abs(w(t)))*w(t) - Y(t))/(Z_{\\dot{w}} - m)],\n",
       "[(-B*y_b*cos(\\phi(t))*cos(\\theta(t)) + B*z_b*sin(\\theta(t))*cos(\\phi(t)) + (Iy - M_{\\dot{q}})*q(t)*r(t) - (Iz - N_{\\dot{r}})*q(t)*r(t) + (K_p + K_{p|p|}*Abs(p(t)))*p(t) - (Y_{\\dot{v}} - m)*v(t)*w(t) + (Z_{\\dot{w}} - m)*v(t)*w(t) + K(t))/(Ix - K_{\\dot{p}})],\n",
       "[                  (B*z_b*sin(\\phi(t)) + x_b*cos(\\phi(t))*cos(\\theta(t)) - (Ix - K_{\\dot{p}})*p(t)*r(t) + (Iz - N_{\\dot{r}})*p(t)*r(t) + (M_q + M_{q|q|}*Abs(q(t)))*q(t) + (X_{\\dot{u}} - m)*u(t)*w(t) - (Z_{\\dot{w}} - m)*u(t)*w(t) + M(t))/(Iy - M_{\\dot{q}})],\n",
       "[                          (-B*x_b*sin(2*\\phi(t))/2 - B*y_b*sin(\\phi(t)) + (Ix - K_{\\dot{p}})*p(t)*q(t) - (Iy - M_{\\dot{q}})*p(t)*q(t) + (N_r + N_{r|r|}*Abs(r(t)))*r(t) - (X_{\\dot{u}} - m)*u(t)*v(t) + (Y_{\\dot{v}} - m)*u(t)*v(t) + N(t))/(Iz - N_{\\dot{r}})],\n",
       "[                                                                                                                                                                                    p(t) + q(t)*sin(\\phi(t))*tan(\\theta(t)) + r(t)*cos(\\phi(t))*tan(\\theta(t))],\n",
       "[                                                                                                                                                                                                                         q(t)*cos(\\phi(t)) - r(t)*sin(\\phi(t))],\n",
       "[                                                                                                                                                                                                        (q(t)*sin(\\phi(t)) + r(t)*cos(\\phi(t)))/cos(\\theta(t))]])"
      ]
     },
     "execution_count": 133,
     "metadata": {},
     "output_type": "execute_result"
    }
   ],
   "source": [
    "f"
   ]
  },
  {
   "cell_type": "code",
   "execution_count": 135,
   "id": "3585a9a9-282a-48c9-8810-4220de5bc6fc",
   "metadata": {},
   "outputs": [
    {
     "data": {
      "text/latex": [
       "$\\displaystyle \\left[\\begin{matrix}p{\\left(t \\right)} + q{\\left(t \\right)} \\sin{\\left(\\phi{\\left(t \\right)} \\right)} \\tan{\\left(\\theta{\\left(t \\right)} \\right)} + r{\\left(t \\right)} \\cos{\\left(\\phi{\\left(t \\right)} \\right)} \\tan{\\left(\\theta{\\left(t \\right)} \\right)}\\\\q{\\left(t \\right)} \\cos{\\left(\\phi{\\left(t \\right)} \\right)} - r{\\left(t \\right)} \\sin{\\left(\\phi{\\left(t \\right)} \\right)}\\\\\\frac{q{\\left(t \\right)} \\sin{\\left(\\phi{\\left(t \\right)} \\right)} + r{\\left(t \\right)} \\cos{\\left(\\phi{\\left(t \\right)} \\right)}}{\\cos{\\left(\\theta{\\left(t \\right)} \\right)}}\\end{matrix}\\right]$"
      ],
      "text/plain": [
       "Matrix([\n",
       "[p(t) + q(t)*sin(\\phi(t))*tan(\\theta(t)) + r(t)*cos(\\phi(t))*tan(\\theta(t))],\n",
       "[                                     q(t)*cos(\\phi(t)) - r(t)*sin(\\phi(t))],\n",
       "[                    (q(t)*sin(\\phi(t)) + r(t)*cos(\\phi(t)))/cos(\\theta(t))]])"
      ]
     },
     "execution_count": 135,
     "metadata": {},
     "output_type": "execute_result"
    }
   ],
   "source": [
    "simplify(Theta)"
   ]
  },
  {
   "cell_type": "code",
   "execution_count": 38,
   "id": "1016fc40-97de-40a6-ab00-93969211e39b",
   "metadata": {},
   "outputs": [
    {
     "data": {
      "text/latex": [
       "$\\displaystyle \\left[\\begin{matrix}\\begin{cases} X_{u} & \\text{for}\\: u{\\left(t \\right)} = 0 \\\\X_{u} + \\frac{2 X_{u|u|} u^{2}{\\left(t \\right)}}{\\left|{u{\\left(t \\right)}}\\right|} & \\text{otherwise} \\end{cases} & \\left(- Y_{\\dot{v}} + m\\right) r{\\left(t \\right)} & \\left(Z_{\\dot{w}} - m\\right) q{\\left(t \\right)} & 0 & \\left(Z_{\\dot{w}} - m\\right) w{\\left(t \\right)} & \\left(- Y_{\\dot{v}} + m\\right) v{\\left(t \\right)} & \\left(B - W\\right) \\cos{\\left(\\phi{\\left(t \\right)} \\right)} & 0 & 0\\\\\\left(X_{\\dot{u}} - m\\right) r{\\left(t \\right)} & \\begin{cases} Y_{v} & \\text{for}\\: v{\\left(t \\right)} = 0 \\\\Y_{v} + \\frac{2 Y_{v|v|} v^{2}{\\left(t \\right)}}{\\left|{v{\\left(t \\right)}}\\right|} & \\text{otherwise} \\end{cases} & \\left(- Z_{\\dot{w}} + m\\right) p{\\left(t \\right)} & \\left(- Z_{\\dot{w}} + m\\right) w{\\left(t \\right)} & 0 & \\left(X_{\\dot{u}} - m\\right) u{\\left(t \\right)} & \\left(B - W\\right) \\sin{\\left(\\phi{\\left(t \\right)} \\right)} \\sin{\\left(\\theta{\\left(t \\right)} \\right)} & \\left(- B + W\\right) \\cos{\\left(\\phi{\\left(t \\right)} \\right)} \\cos{\\left(\\theta{\\left(t \\right)} \\right)} & 0\\\\\\left(- X_{\\dot{u}} + m\\right) q{\\left(t \\right)} & \\left(Y_{\\dot{v}} - m\\right) p{\\left(t \\right)} & \\begin{cases} Z_{w} & \\text{for}\\: w{\\left(t \\right)} = 0 \\\\Z_{w} + \\frac{2 Z_{w|w|} w^{2}{\\left(t \\right)}}{\\left|{w{\\left(t \\right)}}\\right|} & \\text{otherwise} \\end{cases} & \\left(Y_{\\dot{v}} - m\\right) v{\\left(t \\right)} & \\left(- X_{\\dot{u}} + m\\right) u{\\left(t \\right)} & 0 & \\left(B - W\\right) \\sin{\\left(\\phi{\\left(t \\right)} \\right)} \\cos{\\left(\\theta{\\left(t \\right)} \\right)} & \\left(B - W\\right) \\sin{\\left(\\theta{\\left(t \\right)} \\right)} \\cos{\\left(\\phi{\\left(t \\right)} \\right)} & 0\\\\0 & \\left(- Y_{\\dot{v}} + Z_{\\dot{w}}\\right) w{\\left(t \\right)} & \\left(- Y_{\\dot{v}} + Z_{\\dot{w}}\\right) v{\\left(t \\right)} & \\begin{cases} K_{p} & \\text{for}\\: p{\\left(t \\right)} = 0 \\\\K_{p} + \\frac{2 K_{p|p|} p^{2}{\\left(t \\right)}}{\\left|{p{\\left(t \\right)}}\\right|} & \\text{otherwise} \\end{cases} & \\left(Iy - Iz - M_{\\dot{q}} + N_{\\dot{r}}\\right) r{\\left(t \\right)} & \\left(Iy - Iz - M_{\\dot{q}} + N_{\\dot{r}}\\right) q{\\left(t \\right)} & B \\left(y_{b} \\cos{\\left(\\theta{\\left(t \\right)} \\right)} - z_{b} \\sin{\\left(\\theta{\\left(t \\right)} \\right)}\\right) \\sin{\\left(\\phi{\\left(t \\right)} \\right)} & B \\left(y_{b} \\sin{\\left(\\theta{\\left(t \\right)} \\right)} + z_{b} \\cos{\\left(\\theta{\\left(t \\right)} \\right)}\\right) \\cos{\\left(\\phi{\\left(t \\right)} \\right)} & 0\\\\\\left(X_{\\dot{u}} - Z_{\\dot{w}}\\right) w{\\left(t \\right)} & 0 & \\left(X_{\\dot{u}} - Z_{\\dot{w}}\\right) u{\\left(t \\right)} & \\left(- Ix + Iz + K_{\\dot{p}} - N_{\\dot{r}}\\right) r{\\left(t \\right)} & \\begin{cases} M_{q} & \\text{for}\\: q{\\left(t \\right)} = 0 \\\\M_{q} + \\frac{2 M_{q|q|} q^{2}{\\left(t \\right)}}{\\left|{q{\\left(t \\right)}}\\right|} & \\text{otherwise} \\end{cases} & \\left(- Ix + Iz + K_{\\dot{p}} - N_{\\dot{r}}\\right) p{\\left(t \\right)} & B z_{b} \\cos{\\left(\\phi{\\left(t \\right)} \\right)} - x_{b} \\sin{\\left(\\phi{\\left(t \\right)} \\right)} \\cos{\\left(\\theta{\\left(t \\right)} \\right)} & - x_{b} \\sin{\\left(\\theta{\\left(t \\right)} \\right)} \\cos{\\left(\\phi{\\left(t \\right)} \\right)} & 0\\\\\\left(- X_{\\dot{u}} + Y_{\\dot{v}}\\right) v{\\left(t \\right)} & \\left(- X_{\\dot{u}} + Y_{\\dot{v}}\\right) u{\\left(t \\right)} & 0 & \\left(Ix - Iy - K_{\\dot{p}} + M_{\\dot{q}}\\right) q{\\left(t \\right)} & \\left(Ix - Iy - K_{\\dot{p}} + M_{\\dot{q}}\\right) p{\\left(t \\right)} & \\begin{cases} N_{r} & \\text{for}\\: r{\\left(t \\right)} = 0 \\\\N_{r} + \\frac{2 N_{r|r|} r^{2}{\\left(t \\right)}}{\\left|{r{\\left(t \\right)}}\\right|} & \\text{otherwise} \\end{cases} & B \\left(- 2 x_{b} \\cos^{2}{\\left(\\phi{\\left(t \\right)} \\right)} + x_{b} - y_{b} \\cos{\\left(\\phi{\\left(t \\right)} \\right)}\\right) & 0 & 0\\\\0 & 0 & 0 & 1 & \\sin{\\left(\\phi{\\left(t \\right)} \\right)} \\tan{\\left(\\theta{\\left(t \\right)} \\right)} & \\cos{\\left(\\phi{\\left(t \\right)} \\right)} \\tan{\\left(\\theta{\\left(t \\right)} \\right)} & \\left(q{\\left(t \\right)} \\cos{\\left(\\phi{\\left(t \\right)} \\right)} - r{\\left(t \\right)} \\sin{\\left(\\phi{\\left(t \\right)} \\right)}\\right) \\tan{\\left(\\theta{\\left(t \\right)} \\right)} & \\frac{q{\\left(t \\right)} \\sin{\\left(\\phi{\\left(t \\right)} \\right)} + r{\\left(t \\right)} \\cos{\\left(\\phi{\\left(t \\right)} \\right)}}{\\cos^{2}{\\left(\\theta{\\left(t \\right)} \\right)}} & 0\\\\0 & 0 & 0 & 0 & \\cos{\\left(\\phi{\\left(t \\right)} \\right)} & - \\sin{\\left(\\phi{\\left(t \\right)} \\right)} & - q{\\left(t \\right)} \\sin{\\left(\\phi{\\left(t \\right)} \\right)} - r{\\left(t \\right)} \\cos{\\left(\\phi{\\left(t \\right)} \\right)} & 0 & 0\\\\0 & 0 & 0 & 0 & \\frac{\\sin{\\left(\\phi{\\left(t \\right)} \\right)}}{\\cos{\\left(\\theta{\\left(t \\right)} \\right)}} & \\frac{\\cos{\\left(\\phi{\\left(t \\right)} \\right)}}{\\cos{\\left(\\theta{\\left(t \\right)} \\right)}} & \\frac{q{\\left(t \\right)} \\cos{\\left(\\phi{\\left(t \\right)} \\right)} - r{\\left(t \\right)} \\sin{\\left(\\phi{\\left(t \\right)} \\right)}}{\\cos{\\left(\\theta{\\left(t \\right)} \\right)}} & \\frac{\\left(q{\\left(t \\right)} \\sin{\\left(\\phi{\\left(t \\right)} \\right)} + r{\\left(t \\right)} \\cos{\\left(\\phi{\\left(t \\right)} \\right)}\\right) \\sin{\\left(\\theta{\\left(t \\right)} \\right)}}{\\cos^{2}{\\left(\\theta{\\left(t \\right)} \\right)}} & 0\\end{matrix}\\right]$"
      ],
      "text/plain": [
       "Matrix([\n",
       "[Piecewise((X_u, Eq(u(t), 0)), (X_u + 2*X_{u|u|}*u(t)**2/Abs(u(t)), True)),                                                   (-Y_{\\dot{v}} + m)*r(t),                                                    (Z_{\\dot{w}} - m)*q(t),                                                                         0,                                                    (Z_{\\dot{w}} - m)*w(t),                                                   (-Y_{\\dot{v}} + m)*v(t),                                     (B - W)*cos(\\phi(t)),                                                                        0, 0],\n",
       "[                                                   (X_{\\dot{u}} - m)*r(t), Piecewise((Y_v, Eq(v(t), 0)), (Y_v + 2*Y_{v|v|}*v(t)**2/Abs(v(t)), True)),                                                   (-Z_{\\dot{w}} + m)*p(t),                                                   (-Z_{\\dot{w}} + m)*w(t),                                                                         0,                                                    (X_{\\dot{u}} - m)*u(t),                      (B - W)*sin(\\phi(t))*sin(\\theta(t)),                                     (-B + W)*cos(\\phi(t))*cos(\\theta(t)), 0],\n",
       "[                                                  (-X_{\\dot{u}} + m)*q(t),                                                    (Y_{\\dot{v}} - m)*p(t), Piecewise((Z_w, Eq(w(t), 0)), (Z_w + 2*Z_{w|w|}*w(t)**2/Abs(w(t)), True)),                                                    (Y_{\\dot{v}} - m)*v(t),                                                   (-X_{\\dot{u}} + m)*u(t),                                                                         0,                      (B - W)*sin(\\phi(t))*cos(\\theta(t)),                                      (B - W)*sin(\\theta(t))*cos(\\phi(t)), 0],\n",
       "[                                                                        0,                                         (-Y_{\\dot{v}} + Z_{\\dot{w}})*w(t),                                         (-Y_{\\dot{v}} + Z_{\\dot{w}})*v(t), Piecewise((K_p, Eq(p(t), 0)), (K_p + 2*K_{p|p|}*p(t)**2/Abs(p(t)), True)),                                (Iy - Iz - M_{\\dot{q}} + N_{\\dot{r}})*r(t),                                (Iy - Iz - M_{\\dot{q}} + N_{\\dot{r}})*q(t), B*(y_b*cos(\\theta(t)) - z_b*sin(\\theta(t)))*sin(\\phi(t)),                 B*(y_b*sin(\\theta(t)) + z_b*cos(\\theta(t)))*cos(\\phi(t)), 0],\n",
       "[                                         (X_{\\dot{u}} - Z_{\\dot{w}})*w(t),                                                                         0,                                          (X_{\\dot{u}} - Z_{\\dot{w}})*u(t),                               (-Ix + Iz + K_{\\dot{p}} - N_{\\dot{r}})*r(t), Piecewise((M_q, Eq(q(t), 0)), (M_q + 2*M_{q|q|}*q(t)**2/Abs(q(t)), True)),                               (-Ix + Iz + K_{\\dot{p}} - N_{\\dot{r}})*p(t),     B*z_b*cos(\\phi(t)) - x_b*sin(\\phi(t))*cos(\\theta(t)),                                         -x_b*sin(\\theta(t))*cos(\\phi(t)), 0],\n",
       "[                                        (-X_{\\dot{u}} + Y_{\\dot{v}})*v(t),                                         (-X_{\\dot{u}} + Y_{\\dot{v}})*u(t),                                                                         0,                                (Ix - Iy - K_{\\dot{p}} + M_{\\dot{q}})*q(t),                                (Ix - Iy - K_{\\dot{p}} + M_{\\dot{q}})*p(t), Piecewise((N_r, Eq(r(t), 0)), (N_r + 2*N_{r|r|}*r(t)**2/Abs(r(t)), True)),      B*(-2*x_b*cos(\\phi(t))**2 + x_b - y_b*cos(\\phi(t))),                                                                        0, 0],\n",
       "[                                                                        0,                                                                         0,                                                                         0,                                                                         1,                                               sin(\\phi(t))*tan(\\theta(t)),                                               cos(\\phi(t))*tan(\\theta(t)),   (q(t)*cos(\\phi(t)) - r(t)*sin(\\phi(t)))*tan(\\theta(t)),                (q(t)*sin(\\phi(t)) + r(t)*cos(\\phi(t)))/cos(\\theta(t))**2, 0],\n",
       "[                                                                        0,                                                                         0,                                                                         0,                                                                         0,                                                              cos(\\phi(t)),                                                             -sin(\\phi(t)),                   -q(t)*sin(\\phi(t)) - r(t)*cos(\\phi(t)),                                                                        0, 0],\n",
       "[                                                                        0,                                                                         0,                                                                         0,                                                                         0,                                               sin(\\phi(t))/cos(\\theta(t)),                                               cos(\\phi(t))/cos(\\theta(t)),   (q(t)*cos(\\phi(t)) - r(t)*sin(\\phi(t)))/cos(\\theta(t)), (q(t)*sin(\\phi(t)) + r(t)*cos(\\phi(t)))*sin(\\theta(t))/cos(\\theta(t))**2, 0]])"
      ]
     },
     "execution_count": 38,
     "metadata": {},
     "output_type": "execute_result"
    }
   ],
   "source": [
    "AM = simplify(sym.Matrix([vM, Theta]).jacobian(x))\n",
    "AM"
   ]
  },
  {
   "cell_type": "code",
   "execution_count": 132,
   "id": "1200409e-421f-4ca8-89c8-7ccbd65de289",
   "metadata": {},
   "outputs": [
    {
     "data": {
      "text/latex": [
       "$\\displaystyle 0$"
      ],
      "text/plain": [
       "0"
      ]
     },
     "execution_count": 132,
     "metadata": {},
     "output_type": "execute_result"
    }
   ],
   "source": [
    "AM[8, 8]"
   ]
  }
 ],
 "metadata": {
  "kernelspec": {
   "display_name": "Python 3 (ipykernel)",
   "language": "python",
   "name": "python3"
  },
  "language_info": {
   "codemirror_mode": {
    "name": "ipython",
    "version": 3
   },
   "file_extension": ".py",
   "mimetype": "text/x-python",
   "name": "python",
   "nbconvert_exporter": "python",
   "pygments_lexer": "ipython3",
   "version": "3.11.9"
  }
 },
 "nbformat": 4,
 "nbformat_minor": 5
}
